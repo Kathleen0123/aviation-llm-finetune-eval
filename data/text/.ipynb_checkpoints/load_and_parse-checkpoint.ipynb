{
 "cells": [
  {
   "cell_type": "code",
   "execution_count": 84,
   "id": "3a3c3b85",
   "metadata": {},
   "outputs": [],
   "source": [
    "from langchain.document_loaders import DirectoryLoader\n",
    "from langchain.document_loaders import UnstructuredFileLoader\n",
    "from langchain.text_splitter import RecursiveCharacterTextSplitter\n",
    "from langchain.vectorstores import Qdrant\n",
    "from sentence_transformers import SentenceTransformer\n",
    "from qdrant_client import models, QdrantClient\n",
    "import os\n",
    "\n",
    "path = \"/Users/kge/Desktop/txts/\"\n",
    "dir_list = os.listdir(path)\n",
    "\n",
    "bad_files = [\"file258.txt\", \"file259.txt\", \"file460.txt\", \"file514.txt\", \n",
    "             \"file23.txt\", \"file840.txt\", \"file658.txt\", \"file763.txt\", \n",
    "             \"file617.txt\", \"file53.txt\", \"file373.txt\", \"file831.txt\",\n",
    "             \"file628.txt\", \"file41.txt\", \"file412.txt\", \"file411.txt\",\n",
    "             \"file43.txt\", \"file178.txt\", \"file434.txt\", \"file99.txt\", \n",
    "             \"file421.txt\", \"file233.txt\", \"file227.txt\", \"file582.txt\", \n",
    "             \"file220.txt\", \"file618.txt\", \"file156.txt\", \"file355.txt\", \n",
    "             \"file433.txt\", \"file157.txt\", \"file553.txt\", \"file155.txt\", \n",
    "             \"file395.txt\", \"file330.txt\", \"file333.txt\", \"file131.txt\", \n",
    "             \"file726.txt\", \"file484.txt\"]\n",
    "\n",
    "texts = []\n",
    "for name in dir_list:\n",
    "    if name[-4:] == \".txt\":\n",
    "        if name not in bad_files:\n",
    "            loader = UnstructuredFileLoader(path + name)\n",
    "            docs = loader.load()\n",
    "\n",
    "            text_splitter = RecursiveCharacterTextSplitter(\n",
    "                chunk_size = 500,\n",
    "                chunk_overlap  = 20,\n",
    "                length_function = len,\n",
    "            )\n",
    "            texts += text_splitter.split_documents(docs)"
   ]
  },
  {
   "cell_type": "code",
   "execution_count": 69,
   "id": "d6129973",
   "metadata": {},
   "outputs": [
    {
     "name": "stdout",
     "output_type": "stream",
     "text": [
      "embeddings imported\n",
      "started Qdrant\n",
      "Query is:  What does TRACON mean?\n",
      "query vectorized\n",
      "similarity search done\n"
     ]
    }
   ],
   "source": [
    "from langchain.embeddings import SentenceTransformerEmbeddings\n",
    "\n",
    "embeddings = SentenceTransformerEmbeddings(model_name=\"all-MiniLM-L6-v2\")\n",
    "print(\"embeddings imported\")\n",
    "\n",
    "#we're going to use Qdrant for our vector database\n",
    "url = \"<http://localhost:6333>\"\n",
    "qdrant = Qdrant.from_documents(\n",
    "    texts, embeddings, \n",
    "    location=\":memory:\",  # Local mode with in-memory storage only\n",
    "    collection_name=\"my_documents\",\n",
    ")\n",
    "print(\"started Qdrant\")"
   ]
  },
  {
   "cell_type": "code",
   "execution_count": 73,
   "id": "a33a498b",
   "metadata": {},
   "outputs": [
    {
     "name": "stdout",
     "output_type": "stream",
     "text": [
      "Query is:  What sort of descent techniques do regional and small jet pilots use that cause predicting their descent profiles to be difficult, and why?\n",
      "query vectorized\n",
      "similarity search done\n"
     ]
    }
   ],
   "source": [
    "#setting a test query\n",
    "query = \"What sort of descent techniques do regional and small jet pilots use that cause predicting their descent profiles to be difficult, and why?\"\n",
    "print(\"Query is: \", query)\n",
    "\n",
    "#vectorize the query\n",
    "query_result = embeddings.embed_query(query)\n",
    "print(\"query vectorized\")\n",
    "\n",
    "#we do a similarity search on the documents and query, getting\n",
    "#the scores and documents, then print the top one\n",
    "found_docs = qdrant.similarity_search_with_score(query)\n",
    "print(\"similarity search done\")"
   ]
  },
  {
   "cell_type": "code",
   "execution_count": 74,
   "id": "e9646b25",
   "metadata": {},
   "outputs": [
    {
     "name": "stdout",
     "output_type": "stream",
     "text": [
      "\n",
      "----------------------\n",
      "Top 3 bi-encoder retrieval hits\n",
      "\n",
      "restrictions are issued by controllers for metering and spacing, the nominal descent plan can become inefficient and difficult, if not sometimes impossible, to fly in strong tailwinds.In addition, random observations of regional jet operations and pilot interviews revealed that a large variety of descent-planning techniques are used by pilots, even for the same equipment.These techniques vary in terms of the selection of descent angle, bottom-of-descent planning, and top-of-descent\n",
      "dict_values(['file795.txt'])\n",
      "\n",
      "Score: 0.625072615572405\n",
      "\n",
      "test conditions employed in both tests were designed to provide a reasonable representation of commercial airline jet transport descents as anticipated in a CTAS Descent Advisor operational environment.Cockpit automation and the corresponding pilot procedures were studied to investigate their impact on the descent trajectory.The NASA test pilots were instructed to fly the descents as precisely as possible in order to minimize pilot-induced variations in the descent profiles.The goal was to\n",
      "dict_values(['file781.txt'])\n",
      "\n",
      "Score: 0.6245915703598643\n",
      "\n",
      "Trajectory Prediction Accuracy and Error Sources for Regional Jet Descents: Results of 2010 FAA Global 5000 Flight Trial at Denver International Airport\n",
      "\n",
      "SMGreen\n",
      "\n",
      "JHenderson\n",
      "\n",
      "RVivona\n",
      "\n",
      "GWu\n",
      "\n",
      "2013\n",
      "\n",
      "Unpublished Manuscript Green, S.M., Henderson, J., Vivona, R., and Wu, G., \"Trajectory Prediction Accuracy and Error Sources for Regional Jet Descents: Results of 2010 FAA Global 5000 Flight Trial at Denver International Airport\", Unpublished Manuscript, 2013.\n",
      "dict_values(['file302.txt'])\n",
      "\n",
      "Score: 0.6043411322220447\n",
      "\n",
      "is significantly reduced throughout the descent.The predicted trajectory with an arrival time of 893 sec at 30 n.ml. is also plotted in Fig. 6, but is difficult to distinguish from the simulated trajectories because of crowding of the plots.These improvements in accuracy clearly demonstrate the advantage of using the advisories.With the top-of-descent point specified, pilots could concentrate on tracking the speed profile and needed to pay little attention to thrust and altitude\n",
      "dict_values(['file217.txt'])\n",
      "\n",
      "Score: 0.583807192156305\n",
      "\n",
      "\n",
      "-------------------\n",
      "Top 3 cross-encoder hits\n",
      "\n",
      "restrictions are issued by controllers for metering and spacing, the nominal descent plan can become inefficient and difficult, if not sometimes impossible, to fly in strong tailwinds.In addition, random observations of regional jet operations and pilot interviews revealed that a large variety of descent-planning techniques are used by pilots, even for the same equipment.These techniques vary in terms of the selection of descent angle, bottom-of-descent planning, and top-of-descent\n",
      "\n",
      "Score: 5.370514392852783\n",
      "\n",
      "test conditions employed in both tests were designed to provide a reasonable representation of commercial airline jet transport descents as anticipated in a CTAS Descent Advisor operational environment.Cockpit automation and the corresponding pilot procedures were studied to investigate their impact on the descent trajectory.The NASA test pilots were instructed to fly the descents as precisely as possible in order to minimize pilot-induced variations in the descent profiles.The goal was to\n",
      "\n",
      "Score: 0.4257979691028595\n",
      "\n",
      "Trajectory Prediction Accuracy and Error Sources for Regional Jet Descents: Results of 2010 FAA Global 5000 Flight Trial at Denver International Airport\n",
      "\n",
      "SMGreen\n",
      "\n",
      "JHenderson\n",
      "\n",
      "RVivona\n",
      "\n",
      "GWu\n",
      "\n",
      "2013\n",
      "\n",
      "Unpublished Manuscript Green, S.M., Henderson, J., Vivona, R., and Wu, G., \"Trajectory Prediction Accuracy and Error Sources for Regional Jet Descents: Results of 2010 FAA Global 5000 Flight Trial at Denver International Airport\", Unpublished Manuscript, 2013.\n",
      "\n",
      "Score: -0.7445260882377625\n",
      "\n",
      "is significantly reduced throughout the descent.The predicted trajectory with an arrival time of 893 sec at 30 n.ml. is also plotted in Fig. 6, but is difficult to distinguish from the simulated trajectories because of crowding of the plots.These improvements in accuracy clearly demonstrate the advantage of using the advisories.With the top-of-descent point specified, pilots could concentrate on tracking the speed profile and needed to pay little attention to thrust and altitude\n",
      "\n",
      "Score: -1.2565617561340332\n",
      "\n"
     ]
    }
   ],
   "source": [
    "from sentence_transformers import CrossEncoder\n",
    "\n",
    "print(\"\\n----------------------\")\n",
    "print(\"Top 3 bi-encoder retrieval hits\\n\")\n",
    "re_rank_input = []\n",
    "for i in range(len(found_docs)):\n",
    "    document, score = found_docs[i]\n",
    "    print(document.page_content)\n",
    "    print(document.metadata.values())\n",
    "    print(f\"\\nScore: {score}\\n\")\n",
    "    re_rank_input.append([query, document.page_content])\n",
    "\n",
    "    \n",
    "# rerank the top choices\n",
    "print(\"\\n-------------------\")\n",
    "print(\"Top 3 cross-encoder hits\\n\")\n",
    "cross_encoder = CrossEncoder('cross-encoder/ms-marco-MiniLM-L-6-v2')\n",
    "re_rank_scores = cross_encoder.predict(re_rank_input)\n",
    "re_rank = {}\n",
    "for i in range(len(re_rank_scores)):\n",
    "    re_rank[re_rank_scores[i]] = re_rank_input[i][1]\n",
    "\n",
    "keys = list(re_rank.keys())\n",
    "keys.sort(reverse = True)\n",
    "sorted_rerank = {i: re_rank[i] for i in keys}\n",
    "for i in sorted_rerank:\n",
    "    print(sorted_rerank[i])\n",
    "    print(f\"\\nScore: {i}\\n\")"
   ]
  },
  {
   "cell_type": "code",
   "execution_count": 83,
   "id": "81d56bb0",
   "metadata": {},
   "outputs": [
    {
     "ename": "UnicodeDecodeError",
     "evalue": "'charmap' codec can't decode byte 0x9d in position 4726: character maps to <undefined>",
     "output_type": "error",
     "traceback": [
      "\u001b[0;31m---------------------------------------------------------------------------\u001b[0m",
      "\u001b[0;31mUnicodeDecodeError\u001b[0m                        Traceback (most recent call last)",
      "Cell \u001b[0;32mIn[83], line 2\u001b[0m\n\u001b[1;32m      1\u001b[0m loader \u001b[38;5;241m=\u001b[39m UnstructuredFileLoader(\u001b[38;5;124m\"\u001b[39m\u001b[38;5;124mfile258.txt\u001b[39m\u001b[38;5;124m\"\u001b[39m)\n\u001b[0;32m----> 2\u001b[0m docs \u001b[38;5;241m=\u001b[39m \u001b[43mloader\u001b[49m\u001b[38;5;241;43m.\u001b[39;49m\u001b[43mload\u001b[49m\u001b[43m(\u001b[49m\u001b[43m)\u001b[49m\n\u001b[1;32m      3\u001b[0m text_splitter \u001b[38;5;241m=\u001b[39m RecursiveCharacterTextSplitter(\n\u001b[1;32m      4\u001b[0m                 chunk_size \u001b[38;5;241m=\u001b[39m \u001b[38;5;241m500\u001b[39m,\n\u001b[1;32m      5\u001b[0m                 chunk_overlap  \u001b[38;5;241m=\u001b[39m \u001b[38;5;241m20\u001b[39m,\n\u001b[1;32m      6\u001b[0m                 length_function \u001b[38;5;241m=\u001b[39m \u001b[38;5;28mlen\u001b[39m,\n\u001b[1;32m      7\u001b[0m             )\n",
      "File \u001b[0;32m~/anaconda3/lib/python3.10/site-packages/langchain/document_loaders/unstructured.py:71\u001b[0m, in \u001b[0;36mUnstructuredBaseLoader.load\u001b[0;34m(self)\u001b[0m\n\u001b[1;32m     69\u001b[0m \u001b[38;5;28;01mdef\u001b[39;00m \u001b[38;5;21mload\u001b[39m(\u001b[38;5;28mself\u001b[39m) \u001b[38;5;241m-\u001b[39m\u001b[38;5;241m>\u001b[39m List[Document]:\n\u001b[1;32m     70\u001b[0m     \u001b[38;5;124;03m\"\"\"Load file.\"\"\"\u001b[39;00m\n\u001b[0;32m---> 71\u001b[0m     elements \u001b[38;5;241m=\u001b[39m \u001b[38;5;28;43mself\u001b[39;49m\u001b[38;5;241;43m.\u001b[39;49m\u001b[43m_get_elements\u001b[49m\u001b[43m(\u001b[49m\u001b[43m)\u001b[49m\n\u001b[1;32m     72\u001b[0m     \u001b[38;5;28;01mif\u001b[39;00m \u001b[38;5;28mself\u001b[39m\u001b[38;5;241m.\u001b[39mmode \u001b[38;5;241m==\u001b[39m \u001b[38;5;124m\"\u001b[39m\u001b[38;5;124melements\u001b[39m\u001b[38;5;124m\"\u001b[39m:\n\u001b[1;32m     73\u001b[0m         docs: List[Document] \u001b[38;5;241m=\u001b[39m \u001b[38;5;28mlist\u001b[39m()\n",
      "File \u001b[0;32m~/anaconda3/lib/python3.10/site-packages/langchain/document_loaders/unstructured.py:108\u001b[0m, in \u001b[0;36mUnstructuredFileLoader._get_elements\u001b[0;34m(self)\u001b[0m\n\u001b[1;32m    105\u001b[0m \u001b[38;5;28;01mdef\u001b[39;00m \u001b[38;5;21m_get_elements\u001b[39m(\u001b[38;5;28mself\u001b[39m) \u001b[38;5;241m-\u001b[39m\u001b[38;5;241m>\u001b[39m List:\n\u001b[1;32m    106\u001b[0m     \u001b[38;5;28;01mfrom\u001b[39;00m \u001b[38;5;21;01munstructured\u001b[39;00m\u001b[38;5;21;01m.\u001b[39;00m\u001b[38;5;21;01mpartition\u001b[39;00m\u001b[38;5;21;01m.\u001b[39;00m\u001b[38;5;21;01mauto\u001b[39;00m \u001b[38;5;28;01mimport\u001b[39;00m partition\n\u001b[0;32m--> 108\u001b[0m     \u001b[38;5;28;01mreturn\u001b[39;00m \u001b[43mpartition\u001b[49m\u001b[43m(\u001b[49m\u001b[43mfilename\u001b[49m\u001b[38;5;241;43m=\u001b[39;49m\u001b[38;5;28;43mself\u001b[39;49m\u001b[38;5;241;43m.\u001b[39;49m\u001b[43mfile_path\u001b[49m\u001b[43m,\u001b[49m\u001b[43m \u001b[49m\u001b[38;5;241;43m*\u001b[39;49m\u001b[38;5;241;43m*\u001b[39;49m\u001b[38;5;28;43mself\u001b[39;49m\u001b[38;5;241;43m.\u001b[39;49m\u001b[43munstructured_kwargs\u001b[49m\u001b[43m)\u001b[49m\n",
      "File \u001b[0;32m~/anaconda3/lib/python3.10/site-packages/unstructured/partition/auto.py:177\u001b[0m, in \u001b[0;36mpartition\u001b[0;34m(filename, content_type, file, file_filename, url, include_page_breaks, strategy, encoding, paragraph_grouper, headers, ssl_verify, ocr_languages, pdf_infer_table_structure, xml_keep_tags, data_source_metadata)\u001b[0m\n\u001b[1;32m    168\u001b[0m     elements \u001b[38;5;241m=\u001b[39m partition_image(\n\u001b[1;32m    169\u001b[0m         filename\u001b[38;5;241m=\u001b[39mfilename,  \u001b[38;5;66;03m# type: ignore\u001b[39;00m\n\u001b[1;32m    170\u001b[0m         file\u001b[38;5;241m=\u001b[39mfile,  \u001b[38;5;66;03m# type: ignore\u001b[39;00m\n\u001b[0;32m   (...)\u001b[0m\n\u001b[1;32m    174\u001b[0m         ocr_languages\u001b[38;5;241m=\u001b[39mocr_languages,\n\u001b[1;32m    175\u001b[0m     )\n\u001b[1;32m    176\u001b[0m \u001b[38;5;28;01melif\u001b[39;00m filetype \u001b[38;5;241m==\u001b[39m FileType\u001b[38;5;241m.\u001b[39mTXT:\n\u001b[0;32m--> 177\u001b[0m     elements \u001b[38;5;241m=\u001b[39m \u001b[43mpartition_text\u001b[49m\u001b[43m(\u001b[49m\n\u001b[1;32m    178\u001b[0m \u001b[43m        \u001b[49m\u001b[43mfilename\u001b[49m\u001b[38;5;241;43m=\u001b[39;49m\u001b[43mfilename\u001b[49m\u001b[43m,\u001b[49m\n\u001b[1;32m    179\u001b[0m \u001b[43m        \u001b[49m\u001b[43mfile\u001b[49m\u001b[38;5;241;43m=\u001b[39;49m\u001b[43mfile\u001b[49m\u001b[43m,\u001b[49m\n\u001b[1;32m    180\u001b[0m \u001b[43m        \u001b[49m\u001b[43mencoding\u001b[49m\u001b[38;5;241;43m=\u001b[39;49m\u001b[43mencoding\u001b[49m\u001b[43m,\u001b[49m\n\u001b[1;32m    181\u001b[0m \u001b[43m        \u001b[49m\u001b[43mparagraph_grouper\u001b[49m\u001b[38;5;241;43m=\u001b[39;49m\u001b[43mparagraph_grouper\u001b[49m\u001b[43m,\u001b[49m\n\u001b[1;32m    182\u001b[0m \u001b[43m    \u001b[49m\u001b[43m)\u001b[49m\n\u001b[1;32m    183\u001b[0m \u001b[38;5;28;01melif\u001b[39;00m filetype \u001b[38;5;241m==\u001b[39m FileType\u001b[38;5;241m.\u001b[39mRTF:\n\u001b[1;32m    184\u001b[0m     elements \u001b[38;5;241m=\u001b[39m partition_rtf(\n\u001b[1;32m    185\u001b[0m         filename\u001b[38;5;241m=\u001b[39mfilename,\n\u001b[1;32m    186\u001b[0m         file\u001b[38;5;241m=\u001b[39mfile,\n\u001b[1;32m    187\u001b[0m         include_page_breaks\u001b[38;5;241m=\u001b[39minclude_page_breaks,\n\u001b[1;32m    188\u001b[0m     )\n",
      "File \u001b[0;32m~/anaconda3/lib/python3.10/site-packages/unstructured/file_utils/filetype.py:476\u001b[0m, in \u001b[0;36madd_metadata_with_filetype.<locals>.decorator.<locals>.wrapper\u001b[0;34m(*args, **kwargs)\u001b[0m\n\u001b[1;32m    474\u001b[0m \u001b[38;5;129m@wraps\u001b[39m(func)\n\u001b[1;32m    475\u001b[0m \u001b[38;5;28;01mdef\u001b[39;00m \u001b[38;5;21mwrapper\u001b[39m(\u001b[38;5;241m*\u001b[39margs, \u001b[38;5;241m*\u001b[39m\u001b[38;5;241m*\u001b[39mkwargs):\n\u001b[0;32m--> 476\u001b[0m     elements \u001b[38;5;241m=\u001b[39m \u001b[43mfunc\u001b[49m\u001b[43m(\u001b[49m\u001b[38;5;241;43m*\u001b[39;49m\u001b[43margs\u001b[49m\u001b[43m,\u001b[49m\u001b[43m \u001b[49m\u001b[38;5;241;43m*\u001b[39;49m\u001b[38;5;241;43m*\u001b[39;49m\u001b[43mkwargs\u001b[49m\u001b[43m)\u001b[49m\n\u001b[1;32m    477\u001b[0m     sig \u001b[38;5;241m=\u001b[39m inspect\u001b[38;5;241m.\u001b[39msignature(func)\n\u001b[1;32m    478\u001b[0m     params \u001b[38;5;241m=\u001b[39m \u001b[38;5;28mdict\u001b[39m(\u001b[38;5;241m*\u001b[39m\u001b[38;5;241m*\u001b[39m\u001b[38;5;28mdict\u001b[39m(\u001b[38;5;28mzip\u001b[39m(sig\u001b[38;5;241m.\u001b[39mparameters, args)), \u001b[38;5;241m*\u001b[39m\u001b[38;5;241m*\u001b[39mkwargs)\n",
      "File \u001b[0;32m~/anaconda3/lib/python3.10/site-packages/unstructured/partition/text.py:64\u001b[0m, in \u001b[0;36mpartition_text\u001b[0;34m(filename, file, text, encoding, paragraph_grouper, metadata_filename, include_metadata)\u001b[0m\n\u001b[1;32m     61\u001b[0m exactly_one(filename\u001b[38;5;241m=\u001b[39mfilename, file\u001b[38;5;241m=\u001b[39mfile, text\u001b[38;5;241m=\u001b[39mtext)\n\u001b[1;32m     63\u001b[0m \u001b[38;5;28;01mif\u001b[39;00m filename \u001b[38;5;129;01mis\u001b[39;00m \u001b[38;5;129;01mnot\u001b[39;00m \u001b[38;5;28;01mNone\u001b[39;00m:\n\u001b[0;32m---> 64\u001b[0m     encoding, file_text \u001b[38;5;241m=\u001b[39m \u001b[43mread_txt_file\u001b[49m\u001b[43m(\u001b[49m\u001b[43mfilename\u001b[49m\u001b[38;5;241;43m=\u001b[39;49m\u001b[43mfilename\u001b[49m\u001b[43m,\u001b[49m\u001b[43m \u001b[49m\u001b[43mencoding\u001b[49m\u001b[38;5;241;43m=\u001b[39;49m\u001b[43mencoding\u001b[49m\u001b[43m)\u001b[49m\n\u001b[1;32m     66\u001b[0m \u001b[38;5;28;01melif\u001b[39;00m file \u001b[38;5;129;01mis\u001b[39;00m \u001b[38;5;129;01mnot\u001b[39;00m \u001b[38;5;28;01mNone\u001b[39;00m:\n\u001b[1;32m     67\u001b[0m     encoding, file_text \u001b[38;5;241m=\u001b[39m read_txt_file(file\u001b[38;5;241m=\u001b[39mfile, encoding\u001b[38;5;241m=\u001b[39mencoding)\n",
      "File \u001b[0;32m~/anaconda3/lib/python3.10/site-packages/unstructured/file_utils/encoding.py:93\u001b[0m, in \u001b[0;36mread_txt_file\u001b[0;34m(filename, file, encoding)\u001b[0m\n\u001b[1;32m     91\u001b[0m                 \u001b[38;5;28;01mraise\u001b[39;00m error\n\u001b[1;32m     92\u001b[0m     \u001b[38;5;28;01melse\u001b[39;00m:\n\u001b[0;32m---> 93\u001b[0m         encoding, file_text \u001b[38;5;241m=\u001b[39m \u001b[43mdetect_file_encoding\u001b[49m\u001b[43m(\u001b[49m\u001b[43mfilename\u001b[49m\u001b[43m)\u001b[49m\n\u001b[1;32m     94\u001b[0m \u001b[38;5;28;01melif\u001b[39;00m file:\n\u001b[1;32m     95\u001b[0m     \u001b[38;5;28;01mif\u001b[39;00m encoding:\n",
      "File \u001b[0;32m~/anaconda3/lib/python3.10/site-packages/unstructured/file_utils/encoding.py:74\u001b[0m, in \u001b[0;36mdetect_file_encoding\u001b[0;34m(filename, file)\u001b[0m\n\u001b[1;32m     64\u001b[0m         \u001b[38;5;28;01mraise\u001b[39;00m \u001b[38;5;167;01mUnicodeDecodeError\u001b[39;00m(\n\u001b[1;32m     65\u001b[0m             \u001b[38;5;124m\"\u001b[39m\u001b[38;5;124mUnable to determine the encoding of the file or match it with any \u001b[39m\u001b[38;5;124m\"\u001b[39m\n\u001b[1;32m     66\u001b[0m             \u001b[38;5;124m\"\u001b[39m\u001b[38;5;124mof the specified encodings.\u001b[39m\u001b[38;5;124m\"\u001b[39m,\n\u001b[0;32m   (...)\u001b[0m\n\u001b[1;32m     70\u001b[0m             \u001b[38;5;124m\"\u001b[39m\u001b[38;5;124mInvalid encoding\u001b[39m\u001b[38;5;124m\"\u001b[39m,\n\u001b[1;32m     71\u001b[0m         )\n\u001b[1;32m     73\u001b[0m \u001b[38;5;28;01melse\u001b[39;00m:\n\u001b[0;32m---> 74\u001b[0m     file_text \u001b[38;5;241m=\u001b[39m \u001b[43mbyte_data\u001b[49m\u001b[38;5;241;43m.\u001b[39;49m\u001b[43mdecode\u001b[49m\u001b[43m(\u001b[49m\u001b[43mencoding\u001b[49m\u001b[43m)\u001b[49m\n\u001b[1;32m     76\u001b[0m \u001b[38;5;28;01mreturn\u001b[39;00m encoding, file_text\n",
      "File \u001b[0;32m~/anaconda3/lib/python3.10/encodings/cp1254.py:15\u001b[0m, in \u001b[0;36mCodec.decode\u001b[0;34m(self, input, errors)\u001b[0m\n\u001b[1;32m     14\u001b[0m \u001b[38;5;28;01mdef\u001b[39;00m \u001b[38;5;21mdecode\u001b[39m(\u001b[38;5;28mself\u001b[39m,\u001b[38;5;28minput\u001b[39m,errors\u001b[38;5;241m=\u001b[39m\u001b[38;5;124m'\u001b[39m\u001b[38;5;124mstrict\u001b[39m\u001b[38;5;124m'\u001b[39m):\n\u001b[0;32m---> 15\u001b[0m     \u001b[38;5;28;01mreturn\u001b[39;00m \u001b[43mcodecs\u001b[49m\u001b[38;5;241;43m.\u001b[39;49m\u001b[43mcharmap_decode\u001b[49m\u001b[43m(\u001b[49m\u001b[38;5;28;43minput\u001b[39;49m\u001b[43m,\u001b[49m\u001b[43merrors\u001b[49m\u001b[43m,\u001b[49m\u001b[43mdecoding_table\u001b[49m\u001b[43m)\u001b[49m\n",
      "\u001b[0;31mUnicodeDecodeError\u001b[0m: 'charmap' codec can't decode byte 0x9d in position 4726: character maps to <undefined>"
     ]
    }
   ],
   "source": [
    "loader = UnstructuredFileLoader(\"file258.txt\")\n",
    "docs = loader.load()\n",
    "text_splitter = RecursiveCharacterTextSplitter(\n",
    "                chunk_size = 500,\n",
    "                chunk_overlap  = 20,\n",
    "                length_function = len,\n",
    "            )"
   ]
  },
  {
   "cell_type": "code",
   "execution_count": null,
   "id": "7b0eab9c",
   "metadata": {},
   "outputs": [],
   "source": []
  }
 ],
 "metadata": {
  "kernelspec": {
   "display_name": "Python 3 (ipykernel)",
   "language": "python",
   "name": "python3"
  },
  "language_info": {
   "codemirror_mode": {
    "name": "ipython",
    "version": 3
   },
   "file_extension": ".py",
   "mimetype": "text/x-python",
   "name": "python",
   "nbconvert_exporter": "python",
   "pygments_lexer": "ipython3",
   "version": "3.10.9"
  }
 },
 "nbformat": 4,
 "nbformat_minor": 5
}
